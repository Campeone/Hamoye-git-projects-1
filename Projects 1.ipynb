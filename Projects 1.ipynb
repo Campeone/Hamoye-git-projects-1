{
 "cells": [
  {
   "cell_type": "markdown",
   "id": "b618b8e2",
   "metadata": {},
   "source": [
    "### Currently Learning \"version control with git\" on Hamoye Internship platform "
   ]
  },
  {
   "cell_type": "code",
   "execution_count": 1,
   "id": "477f2e7b",
   "metadata": {},
   "outputs": [],
   "source": [
    "# project one \n",
    "import numpy as np\n"
   ]
  },
  {
   "cell_type": "code",
   "execution_count": 2,
   "id": "804c87da",
   "metadata": {},
   "outputs": [],
   "source": [
    "import pandas as pd"
   ]
  },
  {
   "cell_type": "code",
   "execution_count": 3,
   "id": "c440dc81",
   "metadata": {},
   "outputs": [
    {
     "data": {
      "text/plain": [
       "array([[4, 4, 4, 8],\n",
       "       [5, 6, 6, 3],\n",
       "       [7, 9, 8, 3],\n",
       "       [8, 7, 4, 8]])"
      ]
     },
     "execution_count": 3,
     "metadata": {},
     "output_type": "execute_result"
    }
   ],
   "source": [
    "np.random.randint(1, 10, (4, 4))"
   ]
  },
  {
   "cell_type": "code",
   "execution_count": null,
   "id": "2687b4f5",
   "metadata": {},
   "outputs": [],
   "source": []
  }
 ],
 "metadata": {
  "kernelspec": {
   "display_name": "Python 3",
   "language": "python",
   "name": "python3"
  },
  "language_info": {
   "codemirror_mode": {
    "name": "ipython",
    "version": 3
   },
   "file_extension": ".py",
   "mimetype": "text/x-python",
   "name": "python",
   "nbconvert_exporter": "python",
   "pygments_lexer": "ipython3",
   "version": "3.8.8"
  }
 },
 "nbformat": 4,
 "nbformat_minor": 5
}
