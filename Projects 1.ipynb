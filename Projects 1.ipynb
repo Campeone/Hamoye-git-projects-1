{
  "cells": [
    {
      "cell_type": "markdown",
      "id": "b618b8e2",
      "metadata": {
        "id": "b618b8e2"
      },
      "source": [
        "### Currently Learning \"version control with git\" on Hamoye Internship platform"
      ]
    },
    {
      "cell_type": "code",
      "execution_count": 1,
      "id": "477f2e7b",
      "metadata": {
        "id": "477f2e7b"
      },
      "outputs": [],
      "source": [
        "# project one\n",
        "import numpy as np"
      ]
    },
    {
      "cell_type": "code",
      "execution_count": 2,
      "id": "804c87da",
      "metadata": {
        "id": "804c87da"
      },
      "outputs": [],
      "source": [
        "import pandas as pd"
      ]
    },
    {
      "cell_type": "code",
      "execution_count": 3,
      "id": "c440dc81",
      "metadata": {
        "id": "c440dc81",
        "outputId": "adaf10fe-6948-432b-b2f8-9abcfe540ea2",
        "colab": {
          "base_uri": "https://localhost:8080/"
        }
      },
      "outputs": [
        {
          "output_type": "execute_result",
          "data": {
            "text/plain": [
              "array([[3, 2, 8, 6],\n",
              "       [4, 7, 7, 7],\n",
              "       [2, 6, 1, 1],\n",
              "       [6, 8, 5, 7]])"
            ]
          },
          "metadata": {},
          "execution_count": 3
        }
      ],
      "source": [
        "np.random.randint(1, 10, (4, 4))"
      ]
    },
    {
      "cell_type": "markdown",
      "source": [
        "#### I'm trying to test my connection between google colab and github"
      ],
      "metadata": {
        "id": "XP2rlbmOxJRY"
      },
      "id": "XP2rlbmOxJRY"
    },
    {
      "cell_type": "code",
      "execution_count": 4,
      "id": "2687b4f5",
      "metadata": {
        "id": "2687b4f5",
        "outputId": "452cc0a9-f370-42df-b55e-ed26bb26d876",
        "colab": {
          "base_uri": "https://localhost:8080/"
        }
      },
      "outputs": [
        {
          "output_type": "execute_result",
          "data": {
            "text/plain": [
              "array([[0.27812292, 0.73445572, 0.48999628, 0.94211334, 0.16930523,\n",
              "        0.33012791, 0.21963735],\n",
              "       [0.79353666, 0.14513263, 0.17554579, 0.07467329, 0.37260378,\n",
              "        0.03891397, 0.03425094]])"
            ]
          },
          "metadata": {},
          "execution_count": 4
        }
      ],
      "source": [
        "np.random.rand(2, 7)"
      ]
    }
  ],
  "metadata": {
    "kernelspec": {
      "display_name": "Python 3",
      "language": "python",
      "name": "python3"
    },
    "language_info": {
      "codemirror_mode": {
        "name": "ipython",
        "version": 3
      },
      "file_extension": ".py",
      "mimetype": "text/x-python",
      "name": "python",
      "nbconvert_exporter": "python",
      "pygments_lexer": "ipython3",
      "version": "3.8.8"
    },
    "colab": {
      "provenance": []
    }
  },
  "nbformat": 4,
  "nbformat_minor": 5
}